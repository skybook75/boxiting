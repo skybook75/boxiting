{
 "cells": [
  {
   "cell_type": "markdown",
   "metadata": {},
   "source": [
    "한글찍기\n"
   ]
  },
  {
   "cell_type": "code",
   "execution_count": null,
   "metadata": {},
   "outputs": [],
   "source": [
    "print(\"Hello World !!!\")"
   ]
  },
  {
   "cell_type": "code",
   "execution_count": null,
   "metadata": {},
   "outputs": [],
   "source": [
    "print(\"한글\")"
   ]
  },
  {
   "cell_type": "code",
   "execution_count": null,
   "metadata": {},
   "outputs": [],
   "source": [
    "%%writefile flask_ts.py\n",
    "from flask  import Flask\n",
    "\n",
    "app = Flask('__name__')\n",
    "\n",
    "@app.route('/')\n",
    "def hello() :\n",
    "    return \" Hello Flask Jupyter Notebook\"\n",
    "    \n",
    "if  __name__ == '__main__' :\n",
    "    app.run()"
   ]
  },
  {
   "cell_type": "code",
   "execution_count": null,
   "metadata": {},
   "outputs": [],
   "source": [
    "!pip install tensorflow --upgrade"
   ]
  },
  {
   "cell_type": "code",
   "execution_count": null,
   "metadata": {},
   "outputs": [],
   "source": [
    "dir(int)"
   ]
  },
  {
   "cell_type": "code",
   "execution_count": null,
   "metadata": {},
   "outputs": [],
   "source": [
    "(1).__add__(2)"
   ]
  },
  {
   "cell_type": "code",
   "execution_count": null,
   "metadata": {},
   "outputs": [],
   "source": [
    "print(issubclass(bool, int)) \n",
    "print(isinstance(True,int))\n",
    "print(issubclass(int,float))\n",
    "print(bool.__bases__)"
   ]
  },
  {
   "cell_type": "code",
   "execution_count": null,
   "metadata": {},
   "outputs": [],
   "source": [
    "s = \"abc\"\n",
    "print(s.__len__())\n",
    "print(len(s))\n",
    "print(s[0])\n",
    "print(s.__getitem__(0))\n",
    "print(s[0:2])\n",
    "print(s[slice(0,2)])\n",
    "print(s.__getitem__(slice(0,2)))"
   ]
  },
  {
   "cell_type": "code",
   "execution_count": null,
   "metadata": {},
   "outputs": [],
   "source": [
    "(a,b,c) = (10,20,30) \n",
    "print(a)\n",
    "\n",
    "(aa) = (10,20,30)\n",
    "print(aa)\n",
    "\n",
    "print(globals())"
   ]
  },
  {
   "cell_type": "code",
   "execution_count": null,
   "metadata": {},
   "outputs": [],
   "source": [
    "d = { 'a': 1}\n",
    "print(d.__getitem__('a'))\n",
    "print(d.get('a'))"
   ]
  },
  {
   "cell_type": "code",
   "execution_count": null,
   "metadata": {},
   "outputs": [],
   "source": [
    "print(dir(set))"
   ]
  },
  {
   "cell_type": "code",
   "execution_count": null,
   "metadata": {},
   "outputs": [],
   "source": [
    "a=15\n",
    "print(a.__truediv__(4))\n",
    "print(a/4)\n",
    "print(a.__floordiv__(4))\n",
    "print(a//4)\n",
    "print(a.__pow__(2))\n",
    "print(a**2)\n",
    "print(divmod(a,4))\n",
    "print(a.__divmod__(4))"
   ]
  },
  {
   "cell_type": "code",
   "execution_count": null,
   "metadata": {},
   "outputs": [],
   "source": [
    "print(int)\n",
    "print(bin)\n",
    "print(oct)\n",
    "print(hex)\n",
    "print(float)\n",
    "print(complex)\n",
    "print(list)\n",
    "print(set)\n",
    "print(tuple)\n",
    "print(dict)"
   ]
  },
  {
   "cell_type": "code",
   "execution_count": null,
   "metadata": {},
   "outputs": [],
   "source": [
    "d = {'a' : 1}\n",
    "l = list(d.keys())\n",
    "print(l)\n",
    "l1 = list(d.values())\n",
    "print(l1)"
   ]
  },
  {
   "cell_type": "code",
   "execution_count": null,
   "metadata": {},
   "outputs": [],
   "source": [
    "lt = [(1,2)]\n",
    "d2 = dict(lt)\n",
    "print(d2)"
   ]
  },
  {
   "cell_type": "code",
   "execution_count": null,
   "metadata": {},
   "outputs": [],
   "source": [
    "z = zip([1,2,3],[4,5,6])\n",
    "print(list(z))"
   ]
  },
  {
   "cell_type": "code",
   "execution_count": null,
   "metadata": {},
   "outputs": [],
   "source": [
    "e = enumerate([1,2,3])\n",
    "print(list(e))"
   ]
  },
  {
   "cell_type": "code",
   "execution_count": null,
   "metadata": {},
   "outputs": [],
   "source": [
    "import math\n",
    "def circle(r) :\n",
    "    return math.pi * r**2\n",
    "\n",
    "print(circle(5))"
   ]
  },
  {
   "cell_type": "code",
   "execution_count": null,
   "metadata": {},
   "outputs": [],
   "source": [
    "True.__and__(True)"
   ]
  },
  {
   "cell_type": "code",
   "execution_count": null,
   "metadata": {},
   "outputs": [],
   "source": [
    "True & True"
   ]
  },
  {
   "cell_type": "code",
   "execution_count": null,
   "metadata": {},
   "outputs": [],
   "source": [
    "(2) and (3)"
   ]
  },
  {
   "cell_type": "code",
   "execution_count": null,
   "metadata": {},
   "outputs": [],
   "source": [
    "(2) or (3)"
   ]
  },
  {
   "cell_type": "code",
   "execution_count": null,
   "metadata": {},
   "outputs": [],
   "source": [
    "'' and (3)"
   ]
  },
  {
   "cell_type": "code",
   "execution_count": null,
   "metadata": {},
   "outputs": [],
   "source": [
    "'' or (3)"
   ]
  },
  {
   "cell_type": "code",
   "execution_count": null,
   "metadata": {},
   "outputs": [],
   "source": [
    "my = [ 1,2,3]\n",
    "print(my.__contains__(3))\n",
    "print(my.__contains__(4))\n",
    "print(not my.__contains__(4))\n",
    "\n",
    "d = {'a': 1}\n",
    "print(d.__contains__('a'))\n",
    "print(list(d.keys()).__contains__('a'))\n",
    "print(list(d.values()).__contains__(1))"
   ]
  },
  {
   "cell_type": "code",
   "execution_count": null,
   "metadata": {},
   "outputs": [],
   "source": [
    "a = 10\n",
    "print(repr(a))\n",
    "print(str(a))\n",
    "print(id(a))\n"
   ]
  },
  {
   "cell_type": "code",
   "execution_count": null,
   "metadata": {},
   "outputs": [],
   "source": [
    "print((10,20)[False])\n",
    "print({True:20, False:10}[False])\n",
    "print(20 if True else 10)"
   ]
  },
  {
   "cell_type": "code",
   "execution_count": null,
   "metadata": {},
   "outputs": [],
   "source": [
    "a = input('a')\n",
    "b = input('b')\n",
    "c = abs(int(a)) + abs(int(b))\n",
    "print(c)"
   ]
  },
  {
   "cell_type": "code",
   "execution_count": null,
   "metadata": {},
   "outputs": [],
   "source": [
    "a = input('a')\n",
    "b = a.split()\n",
    "\n",
    "c = abs(int(b[0])) + abs(int(b[1]))\n",
    "print(c)"
   ]
  },
  {
   "cell_type": "code",
   "execution_count": null,
   "metadata": {},
   "outputs": [],
   "source": [
    "a = input('a')\n",
    "b = a.split()\n",
    "#삼항연산자\n",
    "def abs_r(r) :\n",
    "    return r if r >0 else -1 *r\n",
    "c = abs_r(int(b[0])) + abs_r(int(b[1]))\n",
    "print(c)"
   ]
  },
  {
   "cell_type": "code",
   "execution_count": null,
   "metadata": {},
   "outputs": [],
   "source": [
    "a= 10\n",
    "\n",
    "if 0< a <3 :\n",
    "    print('a < 3')\n",
    "elif a == 3 :\n",
    "    print(\" a == 3\")\n",
    "else :\n",
    "    print(\" a > 3\")"
   ]
  },
  {
   "cell_type": "code",
   "execution_count": null,
   "metadata": {},
   "outputs": [],
   "source": [
    "a = 88\n",
    "if 90 <=  a  <= 100 :\n",
    "    print('A')\n",
    "elif 80 <=  a  <= 89 :\n",
    "    print(\" B\")\n",
    "elif 70 <=  a  <= 79 :\n",
    "    print(\" C\")\n",
    "elif 60 <=  a  <= 69 :\n",
    "    print(\" D\")\n",
    "else :\n",
    "    print(\" F\")"
   ]
  },
  {
   "cell_type": "code",
   "execution_count": null,
   "metadata": {},
   "outputs": [],
   "source": [
    "c = 100\n",
    "a = c//10 * 10\n",
    "d = {100: 'A',90 : 'A', 80 : 'B', 70 : 'C', 60 : 'D'}\n",
    "print(d.get(a,'F'))"
   ]
  },
  {
   "cell_type": "code",
   "execution_count": null,
   "metadata": {},
   "outputs": [],
   "source": [
    "print(int.__pos__(-1))\n",
    "print(int.__neg__(-1))"
   ]
  },
  {
   "cell_type": "code",
   "execution_count": null,
   "metadata": {},
   "outputs": [],
   "source": [
    "a=1\n",
    "print(a.__neg__().__pos__())\n",
    "-+a"
   ]
  },
  {
   "cell_type": "raw",
   "metadata": {},
   "source": [
    "a = 10\n",
    "print(globals()['a'])\n",
    "for a in [1,2,3] :\n",
    "    print(a)\n",
    "print(a)\n",
    "print(globals()['a'])"
   ]
  },
  {
   "cell_type": "code",
   "execution_count": null,
   "metadata": {},
   "outputs": [],
   "source": [
    "d= {1:2}\n",
    "list(d.keys())"
   ]
  },
  {
   "cell_type": "code",
   "execution_count": null,
   "metadata": {},
   "outputs": [],
   "source": [
    "dir(range)"
   ]
  },
  {
   "cell_type": "code",
   "execution_count": null,
   "metadata": {},
   "outputs": [],
   "source": [
    "n = range(0,10)\n",
    "print(n.start)\n",
    "print(n.stop)\n",
    "print(n.step)\n",
    "print(n.index(3))\n",
    "print(type(n))"
   ]
  },
  {
   "cell_type": "code",
   "execution_count": null,
   "metadata": {},
   "outputs": [],
   "source": [
    "a = iter(n)\n",
    "print(next(a))"
   ]
  },
  {
   "cell_type": "code",
   "execution_count": null,
   "metadata": {},
   "outputs": [],
   "source": [
    "n= 10\n",
    "for a in range(1,n+1) :\n",
    "    if n % a == 0 :\n",
    "        print(a)"
   ]
  },
  {
   "cell_type": "code",
   "execution_count": null,
   "metadata": {},
   "outputs": [],
   "source": [
    "data = [{'name': \"홍길동\",'age': '30'}, \n",
    "       {'name': \"홍길수\",'age': '30'}, \n",
    "        {'name': \"홍길서\",'age': '30'},\n",
    "       ]\n",
    "for dt in data :\n",
    "    print(\"이름: %(name)s 나이 : %(age)s \" % dt)"
   ]
  },
  {
   "cell_type": "code",
   "execution_count": null,
   "metadata": {},
   "outputs": [],
   "source": [
    "a = [ n for n in range(1,m+1) if m %n == 0]\n",
    "print(a)"
   ]
  },
  {
   "cell_type": "code",
   "execution_count": null,
   "metadata": {},
   "outputs": [],
   "source": [
    "def fn() :\n",
    "    print(\"func call\")\n",
    "    \n",
    "fn.__call__()"
   ]
  },
  {
   "cell_type": "code",
   "execution_count": null,
   "metadata": {},
   "outputs": [],
   "source": [
    "def mysum(x:int, y:int) -> int :\n",
    "    var_tp = mysum.__annotations__\n",
    "    if type(x) == var_tp['x'] :\n",
    "        print('int')\n",
    "    else :\n",
    "        raise Exception(\" not int\")\n",
    "        \n",
    "    if type(y) == var_tp['y'] :\n",
    "        print('int')\n",
    "    else :\n",
    "        raise Exception(\" not int\") \n",
    "        \n",
    "    result = x+y \n",
    "    if type(result) == var_tp['return'] :\n",
    "        print(\"int\")\n",
    "    return result\n",
    "\n",
    "print(mysum(30,20))\n",
    "print(mysum(30.1,10))"
   ]
  },
  {
   "cell_type": "code",
   "execution_count": null,
   "metadata": {},
   "outputs": [],
   "source": [
    "print(mysum.__annotations__)"
   ]
  },
  {
   "cell_type": "code",
   "execution_count": null,
   "metadata": {},
   "outputs": [],
   "source": [
    "def yak(n) :\n",
    "    return [a for a in range(1,n+1) if n % a == 0 ]\n",
    "print(yak(12))"
   ]
  },
  {
   "cell_type": "code",
   "execution_count": null,
   "metadata": {},
   "outputs": [],
   "source": [
    "def minimum(*args) :\n",
    "    a= []\n",
    "    for x in args : \n",
    "        a.append(x)\n",
    "    a.sort()\n",
    "    return a.pop(0)\n",
    "print(minimum(4,5,6,1))"
   ]
  },
  {
   "cell_type": "code",
   "execution_count": null,
   "metadata": {},
   "outputs": [],
   "source": [
    "def maximum(*args) :\n",
    "    a= []\n",
    "    for x in args : \n",
    "        a.append(x)\n",
    "    a.sort()\n",
    "    return a.pop()\n",
    "print(maximum(4,5,6,1))"
   ]
  },
  {
   "cell_type": "code",
   "execution_count": null,
   "metadata": {},
   "outputs": [],
   "source": [
    "g = 10\n",
    "def fn() :\n",
    "    g= 100\n",
    "    print(locals()['g'])\n",
    "    \n",
    "fn()\n",
    "print(globals()['g'])"
   ]
  },
  {
   "cell_type": "code",
   "execution_count": null,
   "metadata": {},
   "outputs": [],
   "source": [
    "l= []\n",
    "i =0\n",
    "def in_pro() :\n",
    "    global i\n",
    "    product_name = input(\" 제품명\")\n",
    "    product_count = input(\" 수량 \")\n",
    "    date = input('날짜')\n",
    "    a = product_name, product_count, date\n",
    "    l.append(a)\n",
    "    i+=1\n",
    "    \n",
    "def product_print(l,i) :\n",
    "    head = 0\n",
    "    for x in range(0,i) : \n",
    "        if head == 0 :\n",
    "            print('-'* 48)\n",
    "            print(\" %12s %12s %16s \" % (\"제품명\",\"수량\",\"날짜  \"))\n",
    "            print('-' * 48)\n",
    "            head = 1\n",
    "        print(\" %12s %12s %16s \" % (l[x][0],l[x][1],l[x][2]))\n",
    "        print('-' * 48)\n",
    "\n",
    "while True : \n",
    "    in_pro()\n",
    "    a = input(\" 계속하겠습니까\")\n",
    "    product_print(l,i)\n",
    "    if a == 'No' :\n",
    "        break\n",
    "        "
   ]
  },
  {
   "cell_type": "code",
   "execution_count": null,
   "metadata": {},
   "outputs": [],
   "source": [
    "def fn1(a=10,b=20) :\n",
    "    print(locals())\n",
    "    \n",
    "print(fn1.__defaults__)\n",
    "fn1()"
   ]
  },
  {
   "cell_type": "code",
   "execution_count": null,
   "metadata": {},
   "outputs": [],
   "source": [
    "help(print)"
   ]
  },
  {
   "cell_type": "code",
   "execution_count": null,
   "metadata": {},
   "outputs": [],
   "source": [
    "def fn2(a,b,*args) :\n",
    "    print(locals())\n",
    "    \n",
    "fn2(1,2,3,4)"
   ]
  },
  {
   "cell_type": "code",
   "execution_count": null,
   "metadata": {},
   "outputs": [],
   "source": [
    "def fn3(*args, **kwargs) :\n",
    "    print(locals())\n",
    "    \n",
    "fn3(10,20,a=1,b=2)"
   ]
  },
  {
   "cell_type": "code",
   "execution_count": null,
   "metadata": {},
   "outputs": [],
   "source": [
    "a, *b, c = 1,2,3,4\n",
    "print(a)\n",
    "print(b)\n",
    "print(c)"
   ]
  },
  {
   "cell_type": "code",
   "execution_count": null,
   "metadata": {},
   "outputs": [],
   "source": [
    "a, *b = 1, {1:2,2:2},1\n",
    "print(a)\n",
    "print(b)"
   ]
  },
  {
   "cell_type": "code",
   "execution_count": null,
   "metadata": {},
   "outputs": [],
   "source": [
    "%%writefile mymodule.py\n",
    "def hap(a,b) :\n",
    "    return a+b\n",
    "\n",
    "def gop(a,b) :\n",
    "    return a*b\n",
    "\n",
    "print(\"my module...\")"
   ]
  },
  {
   "cell_type": "code",
   "execution_count": null,
   "metadata": {},
   "outputs": [],
   "source": [
    "import mymodule as my\n",
    "import sys\n",
    "\n",
    "#sys.path.append(r\"C:\\Users\\Administrator\\python_test\")\n",
    "#sys.path.pop()\n",
    "#print(sys.path)\n",
    "print(\"Hello\")\n",
    "print(my.__name__)\n",
    "print(__name__)\n",
    "print(my.hap(5,5))\n",
    "print(my.gop(5,5))"
   ]
  },
  {
   "cell_type": "code",
   "execution_count": null,
   "metadata": {},
   "outputs": [],
   "source": [
    "!pwd"
   ]
  },
  {
   "cell_type": "code",
   "execution_count": null,
   "metadata": {},
   "outputs": [],
   "source": [
    "!cwd"
   ]
  },
  {
   "cell_type": "code",
   "execution_count": null,
   "metadata": {},
   "outputs": [],
   "source": [
    "!ls"
   ]
  },
  {
   "cell_type": "code",
   "execution_count": null,
   "metadata": {},
   "outputs": [],
   "source": [
    "!cd"
   ]
  },
  {
   "cell_type": "code",
   "execution_count": null,
   "metadata": {
    "collapsed": true
   },
   "outputs": [],
   "source": [
    "import py_compile"
   ]
  },
  {
   "cell_type": "code",
   "execution_count": null,
   "metadata": {},
   "outputs": [],
   "source": [
    "py_compile.compile('a.py')"
   ]
  },
  {
   "cell_type": "code",
   "execution_count": null,
   "metadata": {},
   "outputs": [],
   "source": [
    "%%writefile a.py\n",
    "def add(x,y) :"
   ]
  },
  {
   "cell_type": "code",
   "execution_count": null,
   "metadata": {},
   "outputs": [],
   "source": [
    "a=1\n",
    "b = 2\n",
    "def add(a,b) :\n",
    "    return a+ b\n",
    "print(a+b)\n",
    "a.__add__(b)\n",
    "import inspect\n",
    "\n",
    "print(inspect.getsource(add))"
   ]
  },
  {
   "cell_type": "code",
   "execution_count": null,
   "metadata": {},
   "outputs": [],
   "source": []
  },
  {
   "cell_type": "code",
   "execution_count": null,
   "metadata": {},
   "outputs": [],
   "source": [
    "class Test:\n",
    "    a = 20\n",
    "    b = 30\n",
    "    def __init__(self) :\n",
    "        pass\n",
    "    \n",
    "t = Test()\n",
    "t.a = 100\n",
    "t.b = 200\n",
    "print(Test.__dict__)\n",
    "print(Test.a)\n",
    "print(t.__dict__)\n",
    "print(t.a)\n",
    "print(t.__init__.__self__)\n",
    "print(Test.__init__.__self__)\n"
   ]
  },
  {
   "cell_type": "code",
   "execution_count": null,
   "metadata": {},
   "outputs": [],
   "source": [
    "a= 10\n",
    "print(id(a))\n",
    "b = 10\n",
    "print(id(b))\n",
    "print(id(10))\n",
    "del(a)\n",
    "del(b)\n",
    "a = 10\n",
    "print(id(a))"
   ]
  },
  {
   "cell_type": "code",
   "execution_count": null,
   "metadata": {},
   "outputs": [],
   "source": [
    "!pip list"
   ]
  },
  {
   "cell_type": "code",
   "execution_count": null,
   "metadata": {},
   "outputs": [],
   "source": [
    "!pip install mysql-connector --upgrade"
   ]
  },
  {
   "cell_type": "code",
   "execution_count": null,
   "metadata": {},
   "outputs": [],
   "source": [
    "import mysql.connector as mysql\n"
   ]
  },
  {
   "cell_type": "code",
   "execution_count": null,
   "metadata": {
    "collapsed": true
   },
   "outputs": [],
   "source": [
    "from bs4 import BeautifulSoup"
   ]
  },
  {
   "cell_type": "code",
   "execution_count": null,
   "metadata": {},
   "outputs": [],
   "source": [
    "!pip list"
   ]
  },
  {
   "cell_type": "code",
   "execution_count": null,
   "metadata": {
    "collapsed": true
   },
   "outputs": [],
   "source": [
    "import sqlite3"
   ]
  },
  {
   "cell_type": "code",
   "execution_count": null,
   "metadata": {
    "collapsed": true
   },
   "outputs": [],
   "source": [
    "db = sqlite3.connect('my.db')"
   ]
  },
  {
   "cell_type": "code",
   "execution_count": null,
   "metadata": {
    "collapsed": true
   },
   "outputs": [],
   "source": [
    "cur = db.cursor()"
   ]
  },
  {
   "cell_type": "code",
   "execution_count": null,
   "metadata": {},
   "outputs": [],
   "source": [
    "sql = \"create table student(name text, age int)\"\n",
    "cur.execute(sql)"
   ]
  },
  {
   "cell_type": "code",
   "execution_count": null,
   "metadata": {},
   "outputs": [],
   "source": [
    "db.commit()\n",
    "db.close()"
   ]
  },
  {
   "cell_type": "code",
   "execution_count": null,
   "metadata": {},
   "outputs": [],
   "source": [
    "dir(cur)"
   ]
  },
  {
   "cell_type": "code",
   "execution_count": null,
   "metadata": {},
   "outputs": [],
   "source": [
    "def createTable() :\n",
    "    try :\n",
    "        db = sqlite3.connect('my.db')\n",
    "        cur = db.cursor()\n",
    "        sql = \"create table student(name text, age int)\"\n",
    "        cur.execute(sql)\n",
    "        db.commit()\n",
    "        db.close()\n",
    "        print(\"create sucess\")\n",
    "    except Exception as err :\n",
    "        print('error ', err)\n",
    "        \n",
    "def insertTable() :\n",
    "    try :\n",
    "        db = sqlite3.connect('my.db')\n",
    "        cur = db.cursor()\n",
    "        sql = \"insert into student(name, age) values(?,?)\"\n",
    "        data = ('이순신',40)\n",
    "        cur.execute(sql,data)\n",
    "        db.commit()\n",
    "        db.close()\n",
    "        print(\"insert sucess\")\n",
    "    except Exception as err :\n",
    "        print('error ', err)\n",
    "\n",
    "def bulk_insertTable() :\n",
    "    try :\n",
    "        db = sqlite3.connect('my.db')\n",
    "        cur = db.cursor()\n",
    "        sql = \"insert into student(name, age) values(?,?)\"\n",
    "        data = [('김철수7',50),('김철수8',60),('김철수9',70)]\n",
    "        cur.executemany(sql,data)\n",
    "        db.commit()\n",
    "        db.close()\n",
    "        print(\"insert bulk sucess\")\n",
    "    except Exception as err :\n",
    "        print('error ', err)\n",
    "        \n",
    "#insert        \n",
    "#insertTable()\n",
    "#bulk insert\n",
    "bulk_insertTable()"
   ]
  },
  {
   "cell_type": "code",
   "execution_count": null,
   "metadata": {},
   "outputs": [],
   "source": [
    "import sqlite3\n",
    "def selectTable() :\n",
    "    try :\n",
    "        db = sqlite3.connect('my.db')\n",
    "        cur = db.cursor()\n",
    "        sql = \"select * from student\"\n",
    "        cur.execute(sql)\n",
    "        data = cur.fetchall()\n",
    "        print(data)\n",
    "        for dt in data :\n",
    "            print(\"이름: %s 나이: %d\" % (dt[0], dt[1]))\n",
    "        db.close()\n",
    "        print(\"select fetch all sucess\")\n",
    "    except Exception as err :\n",
    "        print('error ', err)\n",
    "        \n",
    "selectTable()"
   ]
  },
  {
   "cell_type": "code",
   "execution_count": null,
   "metadata": {},
   "outputs": [],
   "source": [
    "import sqlite3\n",
    "def select_curTable() :\n",
    "    try :\n",
    "        db = sqlite3.connect('my.db')\n",
    "        cur = db.cursor()\n",
    "        sql = \"select * from student\"\n",
    "        cur.execute(sql)\n",
    "        \n",
    "        for dt in cur :\n",
    "            print(\"이름: %s 나이: %d\" % (dt[0], dt[1]))\n",
    "        db.close()\n",
    "        print(\"select cur sucess\")\n",
    "    except Exception as err :\n",
    "        print('error ', err)\n",
    "        \n",
    "select_curTable()"
   ]
  },
  {
   "cell_type": "code",
   "execution_count": null,
   "metadata": {},
   "outputs": [],
   "source": [
    "import sqlite3\n",
    "def deleteTable() :\n",
    "    try :\n",
    "        db = sqlite3.connect('my.db')\n",
    "        cur = db.cursor()\n",
    "        sql = \"delete from student where age= ?\"\n",
    "        data = (40,)\n",
    "        cur.execute(sql,data)\n",
    "        \n",
    "        db.commit()\n",
    "        db.close()\n",
    "        print(\" delete sucess\")\n",
    "    except Exception as err :\n",
    "        print('error ', err)\n",
    "        \n",
    "deleteTable()"
   ]
  },
  {
   "cell_type": "code",
   "execution_count": null,
   "metadata": {},
   "outputs": [],
   "source": [
    "import sqlite3\n",
    "def updateTable() :\n",
    "    try :\n",
    "        db = sqlite3.connect('my.db')\n",
    "        cur = db.cursor()\n",
    "        sql = \"update student set name=? where age=?\"\n",
    "        data =(\"파이썬2\",60)\n",
    "        cur.execute(sql,data)\n",
    "        \n",
    "        db.commit()\n",
    "        db.close()\n",
    "        print(\" update sucess\")\n",
    "    except Exception as err :\n",
    "        print('error ', err)\n",
    "        \n",
    "updateTable()"
   ]
  },
  {
   "cell_type": "code",
   "execution_count": null,
   "metadata": {
    "collapsed": true
   },
   "outputs": [],
   "source": [
    "import mysql.connector as mysql\n",
    "# 기본 port는 부여하지 않아도 됨\n",
    "config={'user': 'root', 'password':'1234',\n",
    "        'host':'127.0.0.1', 'database':'world'}\n",
    "db = mysql.connect( **config)"
   ]
  },
  {
   "cell_type": "code",
   "execution_count": null,
   "metadata": {},
   "outputs": [],
   "source": [
    "import mysql.connector as mysql\n",
    "\n",
    "def insertTable() :\n",
    "    try :\n",
    "        # 기본 port는 부여하지 않아도 됨\n",
    "        config={'user': 'root', 'password':'1234',\n",
    "        'host':'127.0.0.1', 'database':'world'}\n",
    "        db = mysql.connect( **config)\n",
    "        \n",
    "        cur = db.cursor()\n",
    "        sql = \"insert into student(name, age, birth) values(%s,%s,%s)\"\n",
    "        data = ('이순신', 40 , \"1980-02-11\")\n",
    "        cur.execute(sql,data)\n",
    "        db.commit()\n",
    "        db.close()\n",
    "        print(\"insert sucess\")\n",
    "    except Exception as err :\n",
    "        print('error ', err)\n",
    "        \n",
    "insertTable()"
   ]
  },
  {
   "cell_type": "code",
   "execution_count": null,
   "metadata": {},
   "outputs": [],
   "source": [
    "import mysql.connector as mysql\n",
    "\n",
    "def select_curTable() :\n",
    "    try :\n",
    "         # 기본 port는 부여하지 않아도 됨\n",
    "        config={'user': 'root', 'password':'1234',\n",
    "        'host':'127.0.0.1', 'database':'world'}\n",
    "        db = mysql.connect( **config)\n",
    "        cur = db.cursor()\n",
    "        sql = \"select * from student\"\n",
    "        cur.execute(sql)\n",
    "        \n",
    "        for dt in cur :\n",
    "            print(\"이름: %s 나이: %d 일자 %s \" % (dt[0], dt[1], dt[2]))\n",
    "        db.close()\n",
    "        print(\"select cur sucess\")\n",
    "    except Exception as err :\n",
    "        print('error ', err)\n",
    "        \n",
    "select_curTable()"
   ]
  },
  {
   "cell_type": "code",
   "execution_count": null,
   "metadata": {},
   "outputs": [],
   "source": [
    "import mysql.connector as mysql\n",
    "\n",
    "def bulk_insertTable() :\n",
    "    try :\n",
    "         # 기본 port는 부여하지 않아도 됨\n",
    "        config={'user': 'root', 'password':'1234',\n",
    "        'host':'127.0.0.1', 'database':'world'}\n",
    "        db = mysql.connect( **config)\n",
    "        cur = db.cursor()\n",
    "        sql = \"insert into student(name, age, birth) values(%s,%s,%s)\"\n",
    "        data = [('김철수7',50,'2000-09-22'),('김철수8',60,\"1945-08-11\"),\n",
    "                ('김철수9',70,\"1935-08-11\")]\n",
    "        cur.executemany(sql,data)\n",
    "        db.commit()\n",
    "        db.close()\n",
    "        print(\"insert bulk sucess\")\n",
    "    except Exception as err :\n",
    "        print('error ', err)\n",
    "        \n",
    "bulk_insertTable()"
   ]
  },
  {
   "cell_type": "code",
   "execution_count": null,
   "metadata": {},
   "outputs": [],
   "source": [
    "import mysql.connector as mysql\n",
    "\n",
    "def updateTable() :\n",
    "    try :\n",
    "         # 기본 port는 부여하지 않아도 됨\n",
    "        config={'user': 'root', 'password':'1234',\n",
    "        'host':'127.0.0.1', 'database':'world'}\n",
    "        db = mysql.connect( **config)\n",
    "        cur = db.cursor()\n",
    "        sql = \"update student set name=%s where age=%s\"\n",
    "        data =(\"파이썬2\",60)\n",
    "        cur.execute(sql,data)\n",
    "        \n",
    "        db.commit()\n",
    "        db.close()\n",
    "        print(\" update sucess\")\n",
    "    except Exception as err :\n",
    "        print('error ', err)\n",
    "        \n",
    "updateTable()"
   ]
  },
  {
   "cell_type": "code",
   "execution_count": null,
   "metadata": {},
   "outputs": [],
   "source": [
    "import mysql.connector as mysql\n",
    "def selectTable() :\n",
    "    try :\n",
    "         # 기본 port는 부여하지 않아도 됨\n",
    "        config={'user': 'root', 'password':'1234',\n",
    "        'host':'127.0.0.1', 'database':'world'}\n",
    "        db = mysql.connect( **config)\n",
    "        cur = db.cursor()\n",
    "        sql = \"select * from student\"\n",
    "        cur.execute(sql)\n",
    "        data = cur.fetchall()\n",
    "        print(data)\n",
    "        for dt in data :\n",
    "            print(\"이름: %s 나이: %d  년: %s 월: %s 일:%s \" % (dt[0], dt[1], \n",
    "                                              dt[2].year, dt[2].month, dt[2].day))\n",
    "        db.close()\n",
    "        print(\"select fetch all sucess\")\n",
    "    except Exception as err :\n",
    "        print('error ', err)\n",
    "        \n",
    "selectTable()"
   ]
  },
  {
   "cell_type": "code",
   "execution_count": null,
   "metadata": {},
   "outputs": [],
   "source": [
    "import mysql.connector as mysql\n",
    "def deleteTable() :\n",
    "    try :\n",
    "         # 기본 port는 부여하지 않아도 됨\n",
    "        config={'user': 'root', 'password':'1234',\n",
    "        'host':'127.0.0.1', 'database':'world'}\n",
    "        cur = db.cursor()\n",
    "        sql = \"delete from student where age= %s\"\n",
    "        data = (60,)\n",
    "        cur.execute(sql,data)\n",
    "        \n",
    "        db.commit()\n",
    "        db.close()\n",
    "        print(\" delete sucess\")\n",
    "    except Exception as err :\n",
    "        print('error ', err)\n",
    "        \n",
    "deleteTable()"
   ]
  },
  {
   "cell_type": "code",
   "execution_count": null,
   "metadata": {},
   "outputs": [],
   "source": [
    "from flask import Flask\n",
    "app = Flask(__name__)\n",
    "\n",
    "@app.route('/')\n",
    "def myTest() :\n",
    "    return \"Hello Flask !!!\"\n",
    "@app.route('/hi')\n",
    "def myTest1() :\n",
    "    return \"hi, Flask !!!\"\n",
    "\n",
    "if __name__ == \"__main__\" :\n",
    "    app.run()"
   ]
  },
  {
   "cell_type": "code",
   "execution_count": null,
   "metadata": {},
   "outputs": [],
   "source": [
    "from flask import Flask\n",
    "help(Flask.run)"
   ]
  },
  {
   "cell_type": "code",
   "execution_count": null,
   "metadata": {
    "collapsed": true
   },
   "outputs": [],
   "source": []
  }
 ],
 "metadata": {
  "kernelspec": {
   "display_name": "Python 3",
   "language": "python",
   "name": "python3"
  },
  "language_info": {
   "codemirror_mode": {
    "name": "ipython",
    "version": 3
   },
   "file_extension": ".py",
   "mimetype": "text/x-python",
   "name": "python",
   "nbconvert_exporter": "python",
   "pygments_lexer": "ipython3",
   "version": "3.7.4"
  }
 },
 "nbformat": 4,
 "nbformat_minor": 2
}
